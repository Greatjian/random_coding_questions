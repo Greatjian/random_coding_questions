{
 "cells": [
  {
   "cell_type": "markdown",
   "id": "6a5f7dd5",
   "metadata": {},
   "source": [
    "## Memory Allocator\n",
    "\n",
    "https://leetcode.com/problems/design-memory-allocator/description/\n",
    "\n",
    "题目比较straightforward，要求implement malloc和free (simulated)，要求速度，我用c++很吃亏，建议python\n"
   ]
  },
  {
   "cell_type": "code",
   "execution_count": 3,
   "id": "30dc8157",
   "metadata": {},
   "outputs": [],
   "source": [
    "import collections\n",
    "\n",
    "class Allocator:\n",
    "\n",
    "    def __init__(self, n: int):\n",
    "        self.idxToVal = [0] * n\n",
    "        self.valToIdx = collections.defaultdict(set)\n",
    "\n",
    "    def allocate(self, size: int, mID: int) -> int:\n",
    "        i, j = 0, 0\n",
    "        while i < len(self.idxToVal):\n",
    "            j = i\n",
    "            while j < len(self.idxToVal) and self.idxToVal[j] == 0:\n",
    "                if (j - i + 1) == size:\n",
    "                    self._writeToMaps(i, j, mID)\n",
    "                    return i\n",
    "                j += 1\n",
    "            i = j + 1\n",
    "        return -1\n",
    "\n",
    "    def freeMemory(self, mID: int) -> int:\n",
    "        l = len(self.valToIdx[mID])\n",
    "        for i in self.valToIdx[mID]:\n",
    "            self.idxToVal[i] = 0\n",
    "        self.valToIdx[mID].clear()\n",
    "        return l\n",
    "\n",
    "    def _writeToMaps(self, i, j, mID):\n",
    "        # i, j is inclusive, and guaranteed to be valid index\n",
    "        for k in range(i, j + 1):\n",
    "            self.idxToVal[k] = mID\n",
    "            self.valToIdx[mID].add(k)\n",
    "\n",
    "# Your Allocator object will be instantiated and called as such:\n",
    "# obj = Allocator(n)\n",
    "# param_1 = obj.allocate(size,mID)\n",
    "# param_2 = obj.freeMemory(mID)"
   ]
  },
  {
   "cell_type": "code",
   "execution_count": 4,
   "id": "a85fb209",
   "metadata": {},
   "outputs": [
    {
     "name": "stdout",
     "output_type": "stream",
     "text": [
      "All test cases passed!\n"
     ]
    }
   ],
   "source": [
    "# Test cases\n",
    "\n",
    "allocator = Allocator(10)\n",
    "assert allocator.allocate(1, 1) == 0\n",
    "assert allocator.allocate(1, 2) == 1\n",
    "assert allocator.allocate(1, 3) == 2\n",
    "assert allocator.freeMemory(2) == 1\n",
    "assert allocator.allocate(3, 4) == 3\n",
    "assert allocator.allocate(1, 1) == 1\n",
    "assert allocator.allocate(1, 1) == 6\n",
    "assert allocator.freeMemory(1) == 3\n",
    "assert allocator.allocate(10, 2) == -1\n",
    "assert allocator.freeMemory(7) == 0\n",
    "\n",
    "print(\"All test cases passed!\")"
   ]
  }
 ],
 "metadata": {
  "kernelspec": {
   "display_name": "Python 3",
   "language": "python",
   "name": "python3"
  },
  "language_info": {
   "codemirror_mode": {
    "name": "ipython",
    "version": 3
   },
   "file_extension": ".py",
   "mimetype": "text/x-python",
   "name": "python",
   "nbconvert_exporter": "python",
   "pygments_lexer": "ipython3",
   "version": "3.13.7"
  }
 },
 "nbformat": 4,
 "nbformat_minor": 5
}
