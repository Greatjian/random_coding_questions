{
 "cells": [
  {
   "cell_type": "markdown",
   "id": "bbb3b32c",
   "metadata": {},
   "source": [
    "# CD Directory\n",
    "\n",
    "要求实现cd(current_dir, new dir), 返回最终的path, 比如：\n",
    "cd(/foo/bar, baz) = /foo/bar/baz\n",
    "cd(/foo/../, ./baz) = /baz\n",
    "cd(/, foo/bar/../../baz) = /baz\n",
    "cd(/, ..) = Null"
   ]
  },
  {
   "cell_type": "code",
   "execution_count": 87,
   "id": "31757280",
   "metadata": {},
   "outputs": [],
   "source": [
    "def cd(cur_dir, new_dir):\n",
    "    path = cur_dir + '/' + new_dir\n",
    "    if not path: return '/'\n",
    "\n",
    "    path_stack = []\n",
    "    path_tokens = path.split('/')\n",
    "    for token in path_tokens:\n",
    "        if token == '..' and path_stack:\n",
    "            path_stack.pop()\n",
    "        elif not token or token == '.':\n",
    "            continue\n",
    "        elif token == '..' and not path_stack:\n",
    "            return 'NULL'\n",
    "        else:\n",
    "            path_stack.append(token)\n",
    "    return '/' + '/'.join(path_stack)"
   ]
  },
  {
   "cell_type": "code",
   "execution_count": 88,
   "id": "4b09f041",
   "metadata": {},
   "outputs": [
    {
     "name": "stdout",
     "output_type": "stream",
     "text": [
      "All test cases passed!\n"
     ]
    }
   ],
   "source": [
    "# Test cases\n",
    "assert cd('/a/b/c', 'd') == '/a/b/c/d'\n",
    "assert cd('/a/b/c', '../d') == '/a/b/d'\n",
    "assert cd('/a/b/c', '../../d') == '/a/d'\n",
    "assert cd('/', 'a/b/../../c') == '/c'\n",
    "assert cd('', '..') == 'NULL'\n",
    "\n",
    "print(\"All test cases passed!\")"
   ]
  },
  {
   "cell_type": "markdown",
   "id": "ca983f47",
   "metadata": {},
   "source": [
    "第二问可不可以加上对～符号也就是home directory的支持\n",
    "完成以后难度加大，第三个参数是soft link的dictionary，比如：\n",
    "cd(/foo/bar, baz, {/foo/bar: /abc}) = /abc/baz\n",
    "cd(/foo/bar, baz, {/foo/bar: /abc, /abc: /bcd, /bcd/baz: /xyz}) = /xyz\n",
    "dictionary 里有可能有短匹配和长匹配，应该先匹配长的(more specific), 比如：\n",
    "cd(/foo/bar, baz, {/foo/bar: /abc, /foo/bar/baz: /xyz}) = /xyz\n",
    "\n",
    "要判断dictionary里是否有循环\n",
    "\n",
    "'USE trie tree traverse through the symlink build the tree'\n",
    "'each walk through will the O(n) n as length of input path'\n",
    "\n",
    "\n",
    "e.g. for a path of `a/b/c/d/e`, one will try to match with the following order: `a/b/c/d/e`, `a/b/c/d`, `a/b/c`, `a/b`, `a`."
   ]
  },
  {
   "cell_type": "code",
   "execution_count": 1,
   "id": "cf63a818",
   "metadata": {},
   "outputs": [],
   "source": [
    "import collections\n",
    "\n",
    "class TrieNode:\n",
    "    def __init__(self):\n",
    "        self.match = None\n",
    "        self.next = collections.defaultdict(TrieNode)\n",
    "\n",
    "class DirectoryMatcher:\n",
    "    def __init__(self):\n",
    "        self.root = TrieNode()\n",
    "\n",
    "    def add(self, path, value):\n",
    "        node = self.root\n",
    "        for part in path.split('/'):\n",
    "            if part:\n",
    "                node = node.next[part]\n",
    "        node.match = value\n",
    "\n",
    "    def match(self, path):\n",
    "        node = self.root\n",
    "        current_path = ['']\n",
    "        matched = None\n",
    "        for part in path.split('/'):\n",
    "            if not part:\n",
    "                continue\n",
    "            if part in node.next:\n",
    "                node = node.next[part]\n",
    "                current_path.append(part)\n",
    "                if node.match is not None:\n",
    "                    matched = node.match\n",
    "            else:\n",
    "                break\n",
    "        if matched is None:\n",
    "            return None, None\n",
    "        return path.replace('/'.join(current_path), matched, 1), matched\n",
    "\n",
    "def cd(cur_dir, new_dir, dict_to_match):\n",
    "    visited = set()\n",
    "    path = cur_dir + '/' + new_dir\n",
    "\n",
    "    directory_matcher = DirectoryMatcher()\n",
    "    for key, value in dict_to_match.items():\n",
    "        directory_matcher.add(key, value)\n",
    "    while path:\n",
    "        # print(\"path: \" + path)\n",
    "        if path in visited:\n",
    "            raise ValueError(\"Loop detected in path\")\n",
    "        visited.add(path)\n",
    "        match, match_part = directory_matcher.match(path)\n",
    "        print(\"match: \" + str(match))\n",
    "        if match is None:\n",
    "            return path\n",
    "        if match.startswith(path):\n",
    "            raise ValueError(\"Loop detected in path\")\n",
    "        if match_part in visited:\n",
    "            raise ValueError(\"Loop detected in path\")\n",
    "        path = match"
   ]
  },
  {
   "cell_type": "code",
   "execution_count": 2,
   "id": "fd80e84b",
   "metadata": {},
   "outputs": [
    {
     "name": "stdout",
     "output_type": "stream",
     "text": [
      "match: /abc/baz\n",
      "match: None\n",
      "match: /abc/baz\n",
      "match: /bcd/baz\n",
      "match: /xyz\n",
      "match: None\n",
      "match: /xyz\n",
      "match: None\n",
      "match: /abc/baz\n",
      "match: /foo/bar/baz\n",
      "match: /abc/baz\n",
      "match: /foo/bar/baz/baz\n",
      "All test cases passed!\n"
     ]
    }
   ],
   "source": [
    "# Test cases\n",
    "\n",
    "import unittest\n",
    "\n",
    "class MyTestCase(unittest.TestCase):\n",
    "    def test_cd(self):\n",
    "        self.assertEqual(cd(\"/foo/bar\", \"baz\", {\"/foo/bar\": \"/abc\"}), '/abc/baz')\n",
    "        self.assertEqual(cd(\"/foo/bar\", \"baz\", {\"/foo/bar\": \"/abc\", \"/abc\": \"/bcd\", \"/bcd/baz\": \"/xyz\"}), '/xyz')\n",
    "        self.assertEqual(cd(\"/foo/bar\", \"baz\", {\"/foo/bar\": \"/abc\", \"/foo/bar/baz\": \"/xyz\"}), '/xyz')\n",
    "        self.assertRaises(ValueError, cd, \"/foo/bar\", \"baz\", {\"/foo/bar\": \"/abc\", \"/abc\": \"/foo/bar\"})\n",
    "        self.assertRaises(ValueError, cd, \"/foo/bar\", \"baz\", {\"/foo/bar\": \"/abc\", \"/abc\": \"/foo/bar/baz\"})\n",
    "\n",
    "tc = MyTestCase()\n",
    "tc.test_cd()\n",
    "print(\"All test cases passed!\")"
   ]
  }
 ],
 "metadata": {
  "kernelspec": {
   "display_name": "Python 3",
   "language": "python",
   "name": "python3"
  },
  "language_info": {
   "codemirror_mode": {
    "name": "ipython",
    "version": 3
   },
   "file_extension": ".py",
   "mimetype": "text/x-python",
   "name": "python",
   "nbconvert_exporter": "python",
   "pygments_lexer": "ipython3",
   "version": "3.9.6"
  }
 },
 "nbformat": 4,
 "nbformat_minor": 5
}
