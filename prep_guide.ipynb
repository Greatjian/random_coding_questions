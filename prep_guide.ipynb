{
 "cells": [
  {
   "cell_type": "markdown",
   "id": "24acf6e7",
   "metadata": {},
   "source": [
    "# Prep Guide"
   ]
  },
  {
   "cell_type": "markdown",
   "id": "bcde2d4c",
   "metadata": {},
   "source": [
    "## Backtracking"
   ]
  },
  {
   "cell_type": "markdown",
   "id": "ef89af94",
   "metadata": {},
   "source": [
    "LeetCode questions:\n",
    "\n",
    "- https://leetcode.com/problems/combination-sum/description/\n",
    "- https://leetcode.com/problems/combination-sum-ii/description/\n",
    "- https://leetcode.com/problems/permutations/description/\n",
    "- https://leetcode.com/problems/permutations-ii/description/"
   ]
  },
  {
   "cell_type": "markdown",
   "id": "dc02622f",
   "metadata": {},
   "source": [
    "## Binary search"
   ]
  },
  {
   "cell_type": "markdown",
   "id": "16dd1f6f",
   "metadata": {},
   "source": [
    "LeetCode questions:\n",
    "\n",
    "- https://leetcode.com/problems/binary-search/description/\n",
    "- https://leetcode.com/problems/find-first-and-last-position-of-element-in-sorted-array/\n",
    "- https://leetcode.com/problems/time-based-key-value-store/description/"
   ]
  },
  {
   "cell_type": "markdown",
   "id": "8365ef33",
   "metadata": {},
   "source": [
    "## Sorting"
   ]
  },
  {
   "cell_type": "code",
   "execution_count": 4,
   "id": "0150b858",
   "metadata": {},
   "outputs": [],
   "source": [
    "l1 = [1,6,3,7,2]\n",
    "l1.sort() # in place, returns None\n",
    "l1.sort(reverse=True) # in place, reverse order\n",
    "sorted_list = sorted(l1) # returns a new sorted list\n",
    "\n",
    "l2 = [(1,'c'), (2,'a'), (3,'b')]\n",
    "l2.sort(key=lambda x: x[1]) # sort by second element"
   ]
  },
  {
   "cell_type": "markdown",
   "id": "c636a235",
   "metadata": {},
   "source": [
    "Basic implementation of sorting in Python:\n",
    "https://www.geeksforgeeks.org/python/sorting-algorithms-in-python/\n",
    "\n",
    "Leetcode problems:\n",
    "\n",
    "- https://leetcode.com/problems/merge-sorted-array/description/\n",
    "- https://leetcode.com/problems/merge-intervals/description/\n",
    "- https://leetcode.com/problems/maximum-depth-of-binary-tree/description/"
   ]
  },
  {
   "cell_type": "markdown",
   "id": "1e0c5ffd",
   "metadata": {},
   "source": [
    "Sort top k from n elements: https://leetcode.com/problems/top-k-frequent-words/description/\n",
    "\n",
    "1. Direct sort, O(nlogn)\n",
    "2. Max heap of size n, heapify + k iterations, O(n + klogn)\n",
    "3. Min heap of size k, O(nlogk)\n",
    "4. Quick select, average O(n), worst O(n^2), https://www.geeksforgeeks.org/dsa/quick-select-in-python/"
   ]
  },
  {
   "cell_type": "markdown",
   "id": "53c4c889",
   "metadata": {},
   "source": [
    "## Traversal (tree, graph)"
   ]
  },
  {
   "cell_type": "markdown",
   "id": "f7603c4d",
   "metadata": {},
   "source": [
    "Tree traversal\n",
    "\n",
    "- dfs recursive\n",
    "- dfs iterative\n",
    "- bfs iterative\n",
    "- bfs level order"
   ]
  },
  {
   "cell_type": "code",
   "execution_count": 5,
   "id": "1ef6aa18",
   "metadata": {},
   "outputs": [],
   "source": [
    "def dfs_recursive(node):\n",
    "    if not node:\n",
    "        return\n",
    "    print(node.value)\n",
    "    for child in node.children:\n",
    "        dfs_recursive(child)\n",
    "\n",
    "def dfs_iterative(root):\n",
    "    stack = [root]\n",
    "    while stack:\n",
    "        node = stack.pop()\n",
    "        if node:\n",
    "            print(node.value)\n",
    "            for child in node.children:\n",
    "                stack.append(child)\n",
    "\n",
    "def bfs_iterative(root):\n",
    "    queue = [root]\n",
    "    while queue:\n",
    "        node = queue.pop(0)\n",
    "        if node:\n",
    "            print(node.value)\n",
    "            for child in node.children:\n",
    "                queue.append(child)\n",
    "\n",
    "def bfs_level_order(root):\n",
    "    queue = [root]\n",
    "    while queue:\n",
    "        level_size = len(queue)\n",
    "        for _ in range(level_size):\n",
    "            node = queue.pop(0)\n",
    "            if node:\n",
    "                print(node.value)\n",
    "                for child in node.children:\n",
    "                    queue.append(child)"
   ]
  },
  {
   "cell_type": "markdown",
   "id": "b8115f48",
   "metadata": {},
   "source": [
    "LeetCode questions:\n",
    "\n",
    "- https://leetcode.com/problems/path-sum/description\n",
    "- https://leetcode.com/problems/path-sum-ii/description/\n",
    "- https://leetcode.com/problems/maximum-depth-of-binary-tree/description/"
   ]
  },
  {
   "cell_type": "markdown",
   "id": "79cf5174",
   "metadata": {},
   "source": [
    "Graph:\n",
    "\n",
    "Traversal:\n",
    "- spreadsheet get each node value\n",
    "- https://leetcode.com/problems/keys-and-rooms/description/\n",
    "\n",
    "Topological sort:\n",
    "- https://github.com/Greatjian/leetcode_practice/blob/master/order/Course_Schedule.md\n",
    "- https://leetcode.com/problems/course-schedule/description/\n",
    "\n",
    "- https://github.com/Greatjian/leetcode_practice/blob/master/order/Course_Schedule_II.md\n",
    "- http://leetcode.com/problems/course-schedule-ii/description/"
   ]
  }
 ],
 "metadata": {
  "kernelspec": {
   "display_name": "Python 3",
   "language": "python",
   "name": "python3"
  },
  "language_info": {
   "codemirror_mode": {
    "name": "ipython",
    "version": 3
   },
   "file_extension": ".py",
   "mimetype": "text/x-python",
   "name": "python",
   "nbconvert_exporter": "python",
   "pygments_lexer": "ipython3",
   "version": "3.13.7"
  }
 },
 "nbformat": 4,
 "nbformat_minor": 5
}
