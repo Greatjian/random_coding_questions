{
 "cells": [
  {
   "cell_type": "markdown",
   "id": "24acf6e7",
   "metadata": {},
   "source": [
    "# Prep Guide"
   ]
  },
  {
   "cell_type": "markdown",
   "id": "bcde2d4c",
   "metadata": {},
   "source": [
    "## Backtracking"
   ]
  },
  {
   "cell_type": "markdown",
   "id": "dc02622f",
   "metadata": {},
   "source": [
    "## Binary search"
   ]
  },
  {
   "cell_type": "markdown",
   "id": "8365ef33",
   "metadata": {},
   "source": [
    "## Sorting"
   ]
  },
  {
   "cell_type": "code",
   "execution_count": null,
   "id": "0150b858",
   "metadata": {},
   "outputs": [],
   "source": [
    "l1 = [1,6,3,7,2]\n",
    "l1.sort() # in place, returns None\n",
    "l1.sort(reverse=True) # in place, reverse order\n",
    "sorted_list = sorted(l1) # returns a new sorted list\n",
    "\n",
    "l2 = [(1,'c'), (2,'a'), (3,'b')]\n",
    "l2.sort(key=lambda x: x[1]) # sort by second element\n",
    "\n",
    "Basic implementation of sorting in Python: https://www.geeksforgeeks.org/python/sorting-algorithms-in-python/\n",
    "\n",
    "Leetcode problems:\n",
    "\n",
    "- https://leetcode.com/problems/merge-sorted-array/description\n",
    "- https://leetcode.com/problems/merge-intervals/description\n",
    "\n",
    "\n"
   ]
  },
  {
   "cell_type": "markdown",
   "id": "1e0c5ffd",
   "metadata": {},
   "source": [
    "Sort top k from n elements: https://leetcode.com/problems/top-k-frequent-words/description/\n",
    "\n",
    "1. Direct sort, O(nlogn)\n",
    "2. Max heap of size n, heapify + k iterations, O(n + klogn)\n",
    "3. Min heap of size k, O(nlogk)\n",
    "4. Quick select, average O(n), worst O(n^2), https://www.geeksforgeeks.org/dsa/quick-select-in-python/"
   ]
  },
  {
   "cell_type": "markdown",
   "id": "53c4c889",
   "metadata": {},
   "source": [
    "## Traversal (tree, graph)"
   ]
  }
 ],
 "metadata": {
  "language_info": {
   "name": "python"
  }
 },
 "nbformat": 4,
 "nbformat_minor": 5
}
